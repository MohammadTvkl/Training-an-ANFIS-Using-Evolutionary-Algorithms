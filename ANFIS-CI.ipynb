{
  "nbformat": 4,
  "nbformat_minor": 0,
  "metadata": {
    "colab": {
      "provenance": [],
      "collapsed_sections": [
        "wdEBzEkUzw_8",
        "hTWoCrrmM-MQ",
        "XkHuFdD5PlQx"
      ]
    },
    "kernelspec": {
      "name": "python3",
      "display_name": "Python 3"
    },
    "language_info": {
      "name": "python"
    }
  },
  "cells": [
    {
      "cell_type": "code",
      "source": [
        "import random\n",
        "import numpy as np\n",
        "import pandas as pd\n",
        "import matplotlib.pyplot as plt\n",
        "import copy\n",
        "from sklearn.preprocessing import MinMaxScaler"
      ],
      "metadata": {
        "id": "ru9d1XwGW-mR"
      },
      "execution_count": null,
      "outputs": []
    },
    {
      "cell_type": "markdown",
      "source": [
        "## **Dataset cleaning and Analysis**"
      ],
      "metadata": {
        "id": "wdEBzEkUzw_8"
      }
    },
    {
      "cell_type": "markdown",
      "source": [
        "**Cleaning Dataset**"
      ],
      "metadata": {
        "id": "0qxqflHkbY6Q"
      }
    },
    {
      "cell_type": "code",
      "source": [
        "import pandas as pd\n",
        "\n",
        "df = pd.read_csv('dataset.csv')\n",
        "df = df.drop(columns=['Adj Close'])\n",
        "df['nextclose'] = df['Close'].shift(-1)\n",
        "df = df.dropna(subset=['nextclose'])\n",
        "df.to_csv('updated_dataset.csv', index=False)"
      ],
      "metadata": {
        "id": "sDW9Rnj81khp"
      },
      "execution_count": null,
      "outputs": []
    },
    {
      "cell_type": "markdown",
      "source": [
        "**analyzing dataset**"
      ],
      "metadata": {
        "id": "J9xHq5lDbcgY"
      }
    },
    {
      "cell_type": "code",
      "source": [
        "def analyze_dataset(df):\n",
        "    for col in df.columns:\n",
        "        if pd.api.types.is_numeric_dtype(df[col]):\n",
        "            print(f\"Column: {col}\")\n",
        "            print(f\"  Count: {df[col].count()}\")\n",
        "            print(f\"  Min: {df[col].min()}\")\n",
        "            print(f\"  Max: {df[col].max()}\")\n",
        "            print(f\"  Mean: {df[col].mean()}\")\n",
        "            print(f\"  Median: {df[col].median()}\")\n",
        "            print(f\"  Standard Deviation: {df[col].std()}\")\n",
        "            print(f\"  Variance: {df[col].var()}\")\n",
        "            print(\"-\" * 40)\n",
        "\n",
        "df = pd.read_csv('updated_dataset.csv')\n",
        "print(\"\\nSummary Statistics:\\n\")\n",
        "analyze_dataset(df)"
      ],
      "metadata": {
        "colab": {
          "base_uri": "https://localhost:8080/"
        },
        "id": "Ii_JpkufXMgD",
        "outputId": "67ba1515-4a61-4f0a-99f4-6dae5da3572b"
      },
      "execution_count": null,
      "outputs": [
        {
          "output_type": "stream",
          "name": "stdout",
          "text": [
            "\n",
            "Summary Statistics:\n",
            "\n",
            "Column: Open\n",
            "  Count: 14662\n",
            "  Min: 3.652559996\n",
            "  Max: 115.0075836\n",
            "  Mean: 26.98412813802885\n",
            "  Median: 19.27206039\n",
            "  Standard Deviation: 24.957318256416116\n",
            "  Variance: 622.8677345520412\n",
            "----------------------------------------\n",
            "Column: High\n",
            "  Count: 14662\n",
            "  Min: 3.720644951\n",
            "  Max: 117.194313\n",
            "  Mean: 27.34656708093937\n",
            "  Median: 19.48833084\n",
            "  Standard Deviation: 25.328511768234954\n",
            "  Variance: 641.5335083936166\n",
            "----------------------------------------\n",
            "Column: Low\n",
            "  Count: 14662\n",
            "  Min: 3.604500055\n",
            "  Max: 111.8836823\n",
            "  Mean: 26.595309313547673\n",
            "  Median: 19.01974487\n",
            "  Standard Deviation: 24.544566320582604\n",
            "  Variance: 602.4357358654779\n",
            "----------------------------------------\n",
            "Column: Close\n",
            "  Count: 14662\n",
            "  Min: 3.652559996\n",
            "  Max: 113.7820511\n",
            "  Mean: 26.970569543734552\n",
            "  Median: 19.27206039\n",
            "  Standard Deviation: 24.93846505237753\n",
            "  Variance: 621.9270391686555\n",
            "----------------------------------------\n",
            "Column: Volume\n",
            "  Count: 14662\n",
            "  Min: 0\n",
            "  Max: 100751600\n",
            "  Mean: 2617373.953075979\n",
            "  Median: 1027300.0\n",
            "  Standard Deviation: 4333319.565284223\n",
            "  Variance: 18777658454875.047\n",
            "----------------------------------------\n",
            "Column: nextclose\n",
            "  Count: 14662\n",
            "  Min: 3.652559996\n",
            "  Max: 113.7820511\n",
            "  Mean: 26.970550299768043\n",
            "  Median: 19.27206039\n",
            "  Standard Deviation: 24.93848093377836\n",
            "  Variance: 621.9278312844269\n",
            "----------------------------------------\n"
          ]
        }
      ]
    },
    {
      "cell_type": "markdown",
      "source": [
        "## **ANFIS Pipeline Implementaion**"
      ],
      "metadata": {
        "id": "hTWoCrrmM-MQ"
      }
    },
    {
      "cell_type": "markdown",
      "source": [
        "##### **Membership Functions**"
      ],
      "metadata": {
        "id": "VQO0jzL74nH1"
      }
    },
    {
      "cell_type": "code",
      "source": [
        "def s_shape(x, c, alpha):\n",
        "    res = 1 / (1 + np.exp(-alpha * (x - c)))\n",
        "    return res\n",
        "\n",
        "def z_shape(x, c, alpha):\n",
        "    res = 1 / (1 + np.exp(alpha * (x - c)))\n",
        "    return res\n",
        "\n",
        "def gaussian(x, c, sigma):\n",
        "    return np.exp(-((x - c) ** 2) / (2 * sigma ** 2))"
      ],
      "metadata": {
        "id": "OUvp8Unw5Qub"
      },
      "execution_count": null,
      "outputs": []
    },
    {
      "cell_type": "code",
      "source": [
        "def apply_membership_functions_chromosome(x, mf_params, num_mfs):\n",
        "\n",
        "    centers = sorted(mf_params['centers'])  # Sort the centers to ensure correct assignment of centers to MFs\n",
        "    alphas = mf_params['alphas']\n",
        "    sigmas = mf_params['sigmas']\n",
        "\n",
        "    mfs = []\n",
        "\n",
        "    # S-shape\n",
        "    mfs.append(s_shape(x, centers[0], alphas[0]))\n",
        "\n",
        "    # Gaussian membership functions\n",
        "    for i in range(1, num_mfs - 1):\n",
        "        mfs.append(gaussian(x, centers[i], sigmas[i - 1]))\n",
        "\n",
        "    # Z-shape\n",
        "    mfs.append(z_shape(x, centers[-1], alphas[1]))\n",
        "\n",
        "    return np.array(mfs)\n"
      ],
      "metadata": {
        "id": "q-9Hv3KIjmDn"
      },
      "execution_count": null,
      "outputs": []
    },
    {
      "cell_type": "markdown",
      "source": [
        "##### **layers**"
      ],
      "metadata": {
        "id": "fw-DHBSWPaB-"
      }
    },
    {
      "cell_type": "code",
      "source": [
        "def fuzzification_layer(mf_params_dict):\n",
        "    fuzzified_values = []\n",
        "    for i, feat in enumerate(features):\n",
        "        mf_params = mf_params_dict[feat]\n",
        "        mfs = apply_membership_functions_chromosome(input_data[:, i], mf_params, num_parts[feat])\n",
        "        fuzzified_values.append(mfs)\n",
        "    return np.array(fuzzified_values)"
      ],
      "metadata": {
        "id": "ePiJFYV0vGM7"
      },
      "execution_count": null,
      "outputs": []
    },
    {
      "cell_type": "code",
      "source": [
        "def rule_layer(fuzzified_values):\n",
        "    # print('fuzzified_values: ',fuzzified_values.shape)\n",
        "    # (5, 4, 14662)\n",
        "    return np.prod(fuzzified_values, axis=0)  # Product over features"
      ],
      "metadata": {
        "id": "KpKkUosVw06t"
      },
      "execution_count": null,
      "outputs": []
    },
    {
      "cell_type": "code",
      "source": [
        "def normalization_layer(firing_strengths):\n",
        "    # print('firing_strengths: ',firing_strengths.shape)\n",
        "    # (4, 14662)\n",
        "    sum_firing = np.sum(firing_strengths, axis=0, keepdims=True)\n",
        "    sum_firing[sum_firing == 0] = 1\n",
        "    norm_firing_strengths = firing_strengths / sum_firing\n",
        "    return norm_firing_strengths"
      ],
      "metadata": {
        "id": "PYGP-l3o5d6k"
      },
      "execution_count": null,
      "outputs": []
    },
    {
      "cell_type": "code",
      "source": [
        "def defuzzification_layer(norm_firing_strengths, coefficients):\n",
        "    # print('norm_firing_strengths: ',norm_firing_strengths.shape)\n",
        "    # (4, 14662)\n",
        "    # print('coefficients: ',len(coefficients))\n",
        "    # (4, 1)\n",
        "\n",
        "    weighted_output = np.dot(coefficients, norm_firing_strengths)\n",
        "    return weighted_output"
      ],
      "metadata": {
        "id": "01O9IhhS5fiX"
      },
      "execution_count": null,
      "outputs": []
    },
    {
      "cell_type": "markdown",
      "source": [
        "## **Genetic Algorithm**"
      ],
      "metadata": {
        "id": "XkHuFdD5PlQx"
      }
    },
    {
      "cell_type": "markdown",
      "source": [
        "##### **Chromosome Class**"
      ],
      "metadata": {
        "id": "lT1Z3H4zZOnd"
      }
    },
    {
      "cell_type": "code",
      "source": [
        "class Chromosome:\n",
        "    def __init__(self):\n",
        "        self.features = features\n",
        "        self.num_parts = num_parts\n",
        "        self.num_rules = num_rules\n",
        "        self.mf_params = {}  # Store MF parameters per feature\n",
        "        self.rule_coefficients = []  # Store rule coefficients\n",
        "        self.fitness = None\n",
        "        # initialize with random numbers\n",
        "        self._initialize_mf_params()\n",
        "        self._initialize_rule_coefficients()\n",
        "\n",
        "    def _initialize_mf_params(self):\n",
        "\n",
        "        for feat in self.features:\n",
        "            center_range = (0.1, 0.9)\n",
        "            sigma_range = (0.01, 0.3)\n",
        "            alpha_range = (0.5, 1.5)\n",
        "\n",
        "            centers = [random.uniform(center_range[0], center_range[1]) for _ in range(self.num_parts[feat])]\n",
        "            alphas = [random.uniform(alpha_range[0], alpha_range[1]) for _ in range(2)]\n",
        "            sigmas = [random.uniform(sigma_range[0], sigma_range[1]) for _ in range(self.num_parts[feat] - 2)]\n",
        "\n",
        "            self.mf_params[feat] = {\n",
        "                'centers': centers,\n",
        "                'alphas': alphas,\n",
        "                'sigmas': sigmas\n",
        "            }\n",
        "\n",
        "    def _initialize_rule_coefficients(self):\n",
        "        self.rule_coefficients = [random.uniform(1, 120) for _ in range(self.num_rules)]\n",
        "\n",
        "    def evaluate(self):\n",
        "\n",
        "        fuzzified_values = fuzzification_layer(self.mf_params)\n",
        "        firing_strengths = rule_layer(fuzzified_values)\n",
        "        norm_firing_strengths = normalization_layer(firing_strengths)\n",
        "        final_output = defuzzification_layer(norm_firing_strengths, self.rule_coefficients)\n",
        "\n",
        "        mse = np.mean((final_output - output_data) ** 2)\n",
        "        self.fitness = mse\n",
        "        return mse, final_output\n",
        "\n",
        "    def __str__(self):\n",
        "        s = \"Chromosome Parameters:\\n\"\n",
        "        for feat, params in self.mf_params.items():\n",
        "            s += f\"Feature: {feat}\\n\"\n",
        "            s += f\"  Centers: {params['centers']}\\n\"\n",
        "            s += f\"  Alphas: {params['alphas']}\\n\"\n",
        "            s += f\"  Sigmas: {params['sigmas']}\\n\"\n",
        "        s += f\"Rule Coefficients: {self.rule_coefficients}\\n\"\n",
        "        s += f\"Fitness: {self.fitness}\\n\"\n",
        "        return s\n"
      ],
      "metadata": {
        "id": "Dst35tS8ZT3Y"
      },
      "execution_count": null,
      "outputs": []
    },
    {
      "cell_type": "markdown",
      "source": [
        "##### **EA algoritms**"
      ],
      "metadata": {
        "id": "USmxcb5JaI9w"
      }
    },
    {
      "cell_type": "code",
      "source": [
        "def tournament_selection(population):\n",
        "\n",
        "    contenders = random.sample(population, tournsize)\n",
        "    return min(contenders, key=lambda ind: ind.fitness)"
      ],
      "metadata": {
        "id": "wT_BT5Yz4Vpk"
      },
      "execution_count": null,
      "outputs": []
    },
    {
      "cell_type": "code",
      "source": [
        "def mateChromosomes(ind1, ind2):\n",
        "\n",
        "    for feat in ind1.features:\n",
        "        if random.random() < cx_rate:\n",
        "            ind1.mf_params[feat]['centers'], ind2.mf_params[feat]['centers'] = \\\n",
        "                ind2.mf_params[feat]['centers'], ind1.mf_params[feat]['centers']\n",
        "        if random.random() < cx_rate:\n",
        "            ind1.mf_params[feat]['alphas'], ind2.mf_params[feat]['alphas'] = \\\n",
        "                ind2.mf_params[feat]['alphas'], ind1.mf_params[feat]['alphas']\n",
        "        if random.random() < cx_rate:\n",
        "            ind1.mf_params[feat]['sigmas'], ind2.mf_params[feat]['sigmas'] = \\\n",
        "                ind2.mf_params[feat]['sigmas'], ind1.mf_params[feat]['sigmas']\n",
        "    for i in range(len(ind1.rule_coefficients)):\n",
        "        if random.random() < cx_rate:\n",
        "            ind1.rule_coefficients[i], ind2.rule_coefficients[i] = \\\n",
        "                ind2.rule_coefficients[i], ind1.rule_coefficients[i]\n",
        "    return ind1, ind2"
      ],
      "metadata": {
        "id": "yV-u8jS_x0wd"
      },
      "execution_count": null,
      "outputs": []
    },
    {
      "cell_type": "code",
      "source": [
        "def mutateChromosome(ind):\n",
        "    for feat in ind.features:\n",
        "        for i in range(len(ind.mf_params[feat]['centers'])):\n",
        "            if random.random() < mutation_rate:\n",
        "                ind.mf_params[feat]['centers'][i] += random.gauss(0, mutation_scale_feature)\n",
        "\n",
        "        for i in range(len(ind.mf_params[feat]['alphas'])):\n",
        "            if random.random() < mutation_rate:\n",
        "                ind.mf_params[feat]['alphas'][i] += random.gauss(0, mutation_scale_feature)\n",
        "\n",
        "        for i in range(len(ind.mf_params[feat]['sigmas'])):\n",
        "            if random.random() < mutation_rate:\n",
        "                ind.mf_params[feat]['sigmas'][i] += random.gauss(0, mutation_scale_feature)\n",
        "\n",
        "    for i in range(len(ind.rule_coefficients)):\n",
        "        if random.random() < mutation_rate:\n",
        "            ind.rule_coefficients[i] += random.gauss(0, mutation_scale_coefficient)\n",
        "\n",
        "    return (ind,)"
      ],
      "metadata": {
        "id": "9HPFUYWgEWp2"
      },
      "execution_count": null,
      "outputs": []
    },
    {
      "cell_type": "code",
      "source": [
        "def evaluate_population(population):\n",
        "\n",
        "    for ind in population:\n",
        "        ind.evaluate()"
      ],
      "metadata": {
        "id": "CwLMiLKJ4da2"
      },
      "execution_count": null,
      "outputs": []
    },
    {
      "cell_type": "code",
      "source": [
        "def run_ea_custom():\n",
        "    # Initialize population\n",
        "    population = [Chromosome() for _ in range(pop_size)]\n",
        "    best_ind = None\n",
        "    best_fitness = float('inf')\n",
        "\n",
        "    for gen in range(n_gen):\n",
        "\n",
        "        evaluate_population(population)\n",
        "        current_best = min(population, key=lambda ind: ind.fitness)\n",
        "\n",
        "        if current_best.fitness < best_fitness:\n",
        "            best_fitness = current_best.fitness\n",
        "            best_ind = copy.deepcopy(current_best)\n",
        "        print(f\"Generation {gen}: Best fitness = {best_fitness}\")\n",
        "\n",
        "        # Create new population\n",
        "        new_population = []\n",
        "\n",
        "        population_sorted = sorted(population, key=lambda ind: ind.fitness)\n",
        "        new_population.extend(population_sorted[:2])\n",
        "\n",
        "        while len(new_population) < pop_size:\n",
        "            # Select parents via tournament selection\n",
        "            parent1 = tournament_selection(population)\n",
        "            parent2 = tournament_selection(population)\n",
        "            # Make deep copies of parents for offspring\n",
        "            child1 = copy.deepcopy(parent1)\n",
        "            child2 = copy.deepcopy(parent2)\n",
        "            # Crossover with probability\n",
        "            if random.random() < cxpb:\n",
        "                mateChromosomes(child1, child2)\n",
        "            # Mutate with probability\n",
        "            if random.random() < mutpb:\n",
        "                mutateChromosome(child1)\n",
        "            if random.random() < mutpb:\n",
        "                mutateChromosome(child2)\n",
        "            new_population.extend([child1, child2])\n",
        "        population = new_population[:pop_size]\n",
        "\n",
        "    return best_ind"
      ],
      "metadata": {
        "id": "sCqmK2hH4hGc"
      },
      "execution_count": null,
      "outputs": []
    },
    {
      "cell_type": "markdown",
      "source": [
        "## **Main**"
      ],
      "metadata": {
        "id": "wrv6I7K8PvJs"
      }
    },
    {
      "cell_type": "markdown",
      "source": [
        "**Dataset Notmalization**"
      ],
      "metadata": {
        "id": "Slz08f0wYJH6"
      }
    },
    {
      "cell_type": "code",
      "source": [
        "df = pd.read_csv('updated_dataset.csv')\n",
        "features = ['Open', 'High', 'Low', 'Close', 'Volume']\n",
        "label = 'nextclose'\n",
        "\n",
        "scaler = MinMaxScaler()\n",
        "df[features] = scaler.fit_transform(df[features])"
      ],
      "metadata": {
        "id": "NVfppEDkyWFq"
      },
      "execution_count": null,
      "outputs": []
    },
    {
      "cell_type": "markdown",
      "source": [
        "**Preparing Input and Output**                                                  "
      ],
      "metadata": {
        "id": "XctzXsbdY-j-"
      }
    },
    {
      "cell_type": "code",
      "source": [
        "# global variables of this code\n",
        "\n",
        "input_data = df[features].values\n",
        "output_data = df[label].values\n",
        "\n",
        "num_parts = {\n",
        "    \"Open\": 4,\n",
        "    \"High\": 4,\n",
        "    \"Low\": 4,\n",
        "    \"Close\": 4,\n",
        "    \"Volume\": 4\n",
        "}\n",
        "\n",
        "num_rules = 4\n",
        "\n",
        "pop_size = 90\n",
        "n_gen = 50\n",
        "tournsize = 3\n",
        "\n",
        "cxpb = 0.8\n",
        "cx_rate = 0.5\n",
        "\n",
        "mutpb = 0.25 # برای آن فرزند میوتیشن رخ دهد یا خیر؟\n",
        "mutation_rate = 0.15 # حالا که قراره برای اون فرزند میوتیشن رخ بده، از این برای این استفاده میکنیم که کدام پارامترها انتخاب بشن؟\n",
        "mutation_scale_feature = 0.01\n",
        "mutation_scale_coefficient = 1.2"
      ],
      "metadata": {
        "id": "nDrXVW3XyjXp"
      },
      "execution_count": null,
      "outputs": []
    },
    {
      "cell_type": "markdown",
      "source": [
        "**Run Evolutionary Algorithm**"
      ],
      "metadata": {
        "id": "fqZm522nY16k"
      }
    },
    {
      "cell_type": "code",
      "source": [
        "best_individual = run_ea_custom()\n",
        "best_mse, best_predictions = best_individual.evaluate()"
      ],
      "metadata": {
        "colab": {
          "base_uri": "https://localhost:8080/"
        },
        "id": "J3cHlGKlYlnE",
        "outputId": "cd58da5e-da9b-4874-c3c9-c8f22ee57a3e"
      },
      "execution_count": null,
      "outputs": [
        {
          "output_type": "stream",
          "name": "stdout",
          "text": [
            "Generation 0: Best fitness = 49.39365484066901\n",
            "Generation 1: Best fitness = 49.39365484066901\n",
            "Generation 2: Best fitness = 49.39365484066901\n",
            "Generation 3: Best fitness = 24.676878450676085\n",
            "Generation 4: Best fitness = 24.676878450676085\n",
            "Generation 5: Best fitness = 24.676878450676085\n",
            "Generation 6: Best fitness = 24.676878450676085\n",
            "Generation 7: Best fitness = 20.932600328690853\n",
            "Generation 8: Best fitness = 16.24807198841712\n",
            "Generation 9: Best fitness = 15.61652277636931\n",
            "Generation 10: Best fitness = 13.05814346447717\n",
            "Generation 11: Best fitness = 13.05814346447717\n",
            "Generation 12: Best fitness = 9.147347554893317\n",
            "Generation 13: Best fitness = 8.712823829167391\n",
            "Generation 14: Best fitness = 8.327040787782295\n",
            "Generation 15: Best fitness = 6.757272398869842\n",
            "Generation 16: Best fitness = 6.757272398869842\n",
            "Generation 17: Best fitness = 6.757272398869842\n",
            "Generation 18: Best fitness = 6.750647149355639\n",
            "Generation 19: Best fitness = 6.728411238761958\n",
            "Generation 20: Best fitness = 6.705360051635336\n",
            "Generation 21: Best fitness = 6.662858122151856\n",
            "Generation 22: Best fitness = 6.574340715215414\n",
            "Generation 23: Best fitness = 6.446918740750023\n",
            "Generation 24: Best fitness = 6.419726595768338\n",
            "Generation 25: Best fitness = 6.378435579714305\n",
            "Generation 26: Best fitness = 6.3486193726666516\n",
            "Generation 27: Best fitness = 6.272236907505228\n",
            "Generation 28: Best fitness = 6.2642863019582045\n",
            "Generation 29: Best fitness = 6.059524957399087\n",
            "Generation 30: Best fitness = 5.837512140855124\n",
            "Generation 31: Best fitness = 5.805667143978927\n",
            "Generation 32: Best fitness = 5.711759450541301\n",
            "Generation 33: Best fitness = 5.6685609412960805\n",
            "Generation 34: Best fitness = 5.668479906804017\n",
            "Generation 35: Best fitness = 5.602213669179896\n",
            "Generation 36: Best fitness = 5.536388769611497\n",
            "Generation 37: Best fitness = 5.458709633641043\n",
            "Generation 38: Best fitness = 5.458709633641043\n",
            "Generation 39: Best fitness = 5.395025650738339\n",
            "Generation 40: Best fitness = 5.229558090341626\n",
            "Generation 41: Best fitness = 5.229558090341626\n",
            "Generation 42: Best fitness = 5.193434384378066\n",
            "Generation 43: Best fitness = 5.123072449651454\n",
            "Generation 44: Best fitness = 5.073402552839944\n",
            "Generation 45: Best fitness = 4.9798605298062695\n",
            "Generation 46: Best fitness = 4.900458660478612\n",
            "Generation 47: Best fitness = 4.900458660478612\n",
            "Generation 48: Best fitness = 4.728483461055352\n",
            "Generation 49: Best fitness = 4.70423755339255\n"
          ]
        }
      ]
    },
    {
      "cell_type": "code",
      "source": [
        "print(\"Best Chromosome:\")\n",
        "print(best_individual)\n",
        "print(\"Best MSE:\", best_mse)"
      ],
      "metadata": {
        "colab": {
          "base_uri": "https://localhost:8080/"
        },
        "id": "vBgSHElfa1O1",
        "outputId": "64c827f1-9137-4a99-8fc3-cd065d96d840"
      },
      "execution_count": null,
      "outputs": [
        {
          "output_type": "stream",
          "name": "stdout",
          "text": [
            "Best Chromosome:\n",
            "Chromosome Parameters:\n",
            "Feature: Open\n",
            "  Centers: [0.46647033122744913, 0.7902605614465875, 0.7421685164249305, 0.16212787085010139]\n",
            "  Alphas: [1.462378823839952, 1.0786905508517866]\n",
            "  Sigmas: [0.24065436212456565, 0.09993401239616291]\n",
            "Feature: High\n",
            "  Centers: [0.3355067378232903, 0.2004358620904182, 0.239203321629173, 0.38625117706259815]\n",
            "  Alphas: [1.515717676490809, 1.0987276326194069]\n",
            "  Sigmas: [0.21098988407245162, 0.24113756796986438]\n",
            "Feature: Low\n",
            "  Centers: [0.7453100771864285, 0.47400955331106603, 0.8035857052422172, 0.7014441374904207]\n",
            "  Alphas: [1.4697865286775362, 1.0678352763962777]\n",
            "  Sigmas: [0.09896093041845719, 0.16290025169709216]\n",
            "Feature: Close\n",
            "  Centers: [0.10011837943878762, 0.3727151410923926, 0.19612137410220645, 0.3627129651156262]\n",
            "  Alphas: [1.2202927388083875, 1.3585389062348663]\n",
            "  Sigmas: [0.18955002623652145, 0.1254763464282468]\n",
            "Feature: Volume\n",
            "  Centers: [0.7313579316110858, 0.6193785609906839, 0.5295850890608842, 0.17443210046722696]\n",
            "  Alphas: [1.0779567362845452, 0.6128345132758634]\n",
            "  Sigmas: [0.23252434309848471, -0.03176808050468609]\n",
            "Rule Coefficients: [112.58651445182701, 11.572796301114781, 121.11317127842757, -5.426536242500842]\n",
            "Fitness: 4.70423755339255\n",
            "\n",
            "Best MSE: 4.70423755339255\n"
          ]
        }
      ]
    },
    {
      "cell_type": "code",
      "source": [
        "plt.figure(figsize=(10,6))\n",
        "plt.plot(output_data, label='Actual nextclose')\n",
        "plt.plot(best_predictions, label='Predicted nextclose', linestyle='--')\n",
        "plt.xlabel('Sample Index')\n",
        "plt.ylabel('nextclose Value')\n",
        "plt.title('Actual vs. Predicted nextclose')\n",
        "plt.legend()\n",
        "plt.grid(True)\n",
        "plt.show()"
      ],
      "metadata": {
        "colab": {
          "base_uri": "https://localhost:8080/",
          "height": 564
        },
        "id": "5EN9-vNiYbXk",
        "outputId": "7b964756-b535-434e-bc90-295fc85a09ff"
      },
      "execution_count": null,
      "outputs": [
        {
          "output_type": "display_data",
          "data": {
            "text/plain": [
              "<Figure size 1000x600 with 1 Axes>"
            ],
            "image/png": "[encoded data removed]"
          },
          "metadata": {}
        }
      ]
    },
    {
      "cell_type": "code",
      "source": [
        "comparison_df = pd.DataFrame({\n",
        "    'Actual nextclose': output_data,\n",
        "    'Predicted nextclose': best_predictions\n",
        "})\n",
        "comparison_df"
      ],
      "metadata": {
        "colab": {
          "base_uri": "https://localhost:8080/",
          "height": 423
        },
        "id": "-gLhtW5fQ0gG",
        "outputId": "1452181f-85a6-4a84-cd64-000fc1690234"
      },
      "execution_count": null,
      "outputs": [
        {
          "output_type": "execute_result",
          "data": {
            "text/plain": [
              "       Actual nextclose  Predicted nextclose\n",
              "0              6.632280             8.411703\n",
              "1              6.632280             8.435950\n",
              "2              6.624270             8.469323\n",
              "3              6.408000             8.463814\n",
              "4              6.355935             8.388258\n",
              "...                 ...                  ...\n",
              "14657          6.840000            10.268700\n",
              "14658          6.550000             9.929153\n",
              "14659          6.070000             9.396795\n",
              "14660          6.160000             9.253355\n",
              "14661          6.250000             9.525822\n",
              "\n",
              "[14662 rows x 2 columns]"
            ],
            "text/html": [
              "\n",
              "  <div id=\"df-a69887fa-b958-44bd-948d-a43fa78bdb0f\" class=\"colab-df-container\">\n",
              "    <div>\n",
              "<style scoped>\n",
              "    .dataframe tbody tr th:only-of-type {\n",
              "        vertical-align: middle;\n",
              "    }\n",
              "\n",
              "    .dataframe tbody tr th {\n",
              "        vertical-align: top;\n",
              "    }\n",
              "\n",
              "    .dataframe thead th {\n",
              "        text-align: right;\n",
              "    }\n",
              "</style>\n",
              "<table border=\"1\" class=\"dataframe\">\n",
              "  <thead>\n",
              "    <tr style=\"text-align: right;\">\n",
              "      <th></th>\n",
              "      <th>Actual nextclose</th>\n",
              "      <th>Predicted nextclose</th>\n",
              "    </tr>\n",
              "  </thead>\n",
              "  <tbody>\n",
              "    <tr>\n",
              "      <th>0</th>\n",
              "      <td>6.632280</td>\n",
              "      <td>8.411703</td>\n",
              "    </tr>\n",
              "    <tr>\n",
              "      <th>1</th>\n",
              "      <td>6.632280</td>\n",
              "      <td>8.435950</td>\n",
              "    </tr>\n",
              "    <tr>\n",
              "      <th>2</th>\n",
              "      <td>6.624270</td>\n",
              "      <td>8.469323</td>\n",
              "    </tr>\n",
              "    <tr>\n",
              "      <th>3</th>\n",
              "      <td>6.408000</td>\n",
              "      <td>8.463814</td>\n",
              "    </tr>\n",
              "    <tr>\n",
              "      <th>4</th>\n",
              "      <td>6.355935</td>\n",
              "      <td>8.388258</td>\n",
              "    </tr>\n",
              "    <tr>\n",
              "      <th>...</th>\n",
              "      <td>...</td>\n",
              "      <td>...</td>\n",
              "    </tr>\n",
              "    <tr>\n",
              "      <th>14657</th>\n",
              "      <td>6.840000</td>\n",
              "      <td>10.268700</td>\n",
              "    </tr>\n",
              "    <tr>\n",
              "      <th>14658</th>\n",
              "      <td>6.550000</td>\n",
              "      <td>9.929153</td>\n",
              "    </tr>\n",
              "    <tr>\n",
              "      <th>14659</th>\n",
              "      <td>6.070000</td>\n",
              "      <td>9.396795</td>\n",
              "    </tr>\n",
              "    <tr>\n",
              "      <th>14660</th>\n",
              "      <td>6.160000</td>\n",
              "      <td>9.253355</td>\n",
              "    </tr>\n",
              "    <tr>\n",
              "      <th>14661</th>\n",
              "      <td>6.250000</td>\n",
              "      <td>9.525822</td>\n",
              "    </tr>\n",
              "  </tbody>\n",
              "</table>\n",
              "<p>14662 rows × 2 columns</p>\n",
              "</div>\n",
              "    <div class=\"colab-df-buttons\">\n",
              "\n",
              "  <div class=\"colab-df-container\">\n",
              "    <button class=\"colab-df-convert\" onclick=\"convertToInteractive('df-a69887fa-b958-44bd-948d-a43fa78bdb0f')\"\n",
              "            title=\"Convert this dataframe to an interactive table.\"\n",
              "            style=\"display:none;\">\n",
              "\n",
              "  <svg xmlns=\"http://www.w3.org/2000/svg\" height=\"24px\" viewBox=\"0 -960 960 960\">\n",
              "    <path d=\"M120-120v-720h720v720H120Zm60-500h600v-160H180v160Zm220 220h160v-160H400v160Zm0 220h160v-160H400v160ZM180-400h160v-160H180v160Zm440 0h160v-160H620v160ZM180-180h160v-160H180v160Zm440 0h160v-160H620v160Z\"/>\n",
              "  </svg>\n",
              "    </button>\n",
              "\n",
              "  <style>\n",
              "    .colab-df-container {\n",
              "      display:flex;\n",
              "      gap: 12px;\n",
              "    }\n",
              "\n",
              "    .colab-df-convert {\n",
              "      background-color: #E8F0FE;\n",
              "      border: none;\n",
              "      border-radius: 50%;\n",
              "      cursor: pointer;\n",
              "      display: none;\n",
              "      fill: #1967D2;\n",
              "      height: 32px;\n",
              "      padding: 0 0 0 0;\n",
              "      width: 32px;\n",
              "    }\n",
              "\n",
              "    .colab-df-convert:hover {\n",
              "      background-color: #E2EBFA;\n",
              "      box-shadow: 0px 1px 2px rgba(60, 64, 67, 0.3), 0px 1px 3px 1px rgba(60, 64, 67, 0.15);\n",
              "      fill: #174EA6;\n",
              "    }\n",
              "\n",
              "    .colab-df-buttons div {\n",
              "      margin-bottom: 4px;\n",
              "    }\n",
              "\n",
              "    [theme=dark] .colab-df-convert {\n",
              "      background-color: #3B4455;\n",
              "      fill: #D2E3FC;\n",
              "    }\n",
              "\n",
              "    [theme=dark] .colab-df-convert:hover {\n",
              "      background-color: #434B5C;\n",
              "      box-shadow: 0px 1px 3px 1px rgba(0, 0, 0, 0.15);\n",
              "      filter: drop-shadow(0px 1px 2px rgba(0, 0, 0, 0.3));\n",
              "      fill: #FFFFFF;\n",
              "    }\n",
              "  </style>\n",
              "\n",
              "    <script>\n",
              "      const buttonEl =\n",
              "        document.querySelector('#df-a69887fa-b958-44bd-948d-a43fa78bdb0f button.colab-df-convert');\n",
              "      buttonEl.style.display =\n",
              "        google.colab.kernel.accessAllowed ? 'block' : 'none';\n",
              "\n",
              "      async function convertToInteractive(key) {\n",
              "        const element = document.querySelector('#df-a69887fa-b958-44bd-948d-a43fa78bdb0f');\n",
              "        const dataTable =\n",
              "          await google.colab.kernel.invokeFunction('convertToInteractive',\n",
              "                                                    [key], {});\n",
              "        if (!dataTable) return;\n",
              "\n",
              "        const docLinkHtml = 'Like what you see? Visit the ' +\n",
              "          '<a target=\"_blank\" href=https://colab.research.google.com/notebooks/data_table.ipynb>data table notebook</a>'\n",
              "          + ' to learn more about interactive tables.';\n",
              "        element.innerHTML = '';\n",
              "        dataTable['output_type'] = 'display_data';\n",
              "        await google.colab.output.renderOutput(dataTable, element);\n",
              "        const docLink = document.createElement('div');\n",
              "        docLink.innerHTML = docLinkHtml;\n",
              "        element.appendChild(docLink);\n",
              "      }\n",
              "    </script>\n",
              "  </div>\n",
              "\n",
              "\n",
              "<div id=\"df-e45da26b-9c65-431f-9511-4780416bd092\">\n",
              "  <button class=\"colab-df-quickchart\" onclick=\"quickchart('df-e45da26b-9c65-431f-9511-4780416bd092')\"\n",
              "            title=\"Suggest charts\"\n",
              "            style=\"display:none;\">\n",
              "\n",
              "<svg xmlns=\"http://www.w3.org/2000/svg\" height=\"24px\"viewBox=\"0 0 24 24\"\n",
              "     width=\"24px\">\n",
              "    <g>\n",
              "        <path d=\"M19 3H5c-1.1 0-2 .9-2 2v14c0 1.1.9 2 2 2h14c1.1 0 2-.9 2-2V5c0-1.1-.9-2-2-2zM9 17H7v-7h2v7zm4 0h-2V7h2v10zm4 0h-2v-4h2v4z\"/>\n",
              "    </g>\n",
              "</svg>\n",
              "  </button>\n",
              "\n",
              "<style>\n",
              "  .colab-df-quickchart {\n",
              "      --bg-color: #E8F0FE;\n",
              "      --fill-color: #1967D2;\n",
              "      --hover-bg-color: #E2EBFA;\n",
              "      --hover-fill-color: #174EA6;\n",
              "      --disabled-fill-color: #AAA;\n",
              "      --disabled-bg-color: #DDD;\n",
              "  }\n",
              "\n",
              "  [theme=dark] .colab-df-quickchart {\n",
              "      --bg-color: #3B4455;\n",
              "      --fill-color: #D2E3FC;\n",
              "      --hover-bg-color: #434B5C;\n",
              "      --hover-fill-color: #FFFFFF;\n",
              "      --disabled-bg-color: #3B4455;\n",
              "      --disabled-fill-color: #666;\n",
              "  }\n",
              "\n",
              "  .colab-df-quickchart {\n",
              "    background-color: var(--bg-color);\n",
              "    border: none;\n",
              "    border-radius: 50%;\n",
              "    cursor: pointer;\n",
              "    display: none;\n",
              "    fill: var(--fill-color);\n",
              "    height: 32px;\n",
              "    padding: 0;\n",
              "    width: 32px;\n",
              "  }\n",
              "\n",
              "  .colab-df-quickchart:hover {\n",
              "    background-color: var(--hover-bg-color);\n",
              "    box-shadow: 0 1px 2px rgba(60, 64, 67, 0.3), 0 1px 3px 1px rgba(60, 64, 67, 0.15);\n",
              "    fill: var(--button-hover-fill-color);\n",
              "  }\n",
              "\n",
              "  .colab-df-quickchart-complete:disabled,\n",
              "  .colab-df-quickchart-complete:disabled:hover {\n",
              "    background-color: var(--disabled-bg-color);\n",
              "    fill: var(--disabled-fill-color);\n",
              "    box-shadow: none;\n",
              "  }\n",
              "\n",
              "  .colab-df-spinner {\n",
              "    border: 2px solid var(--fill-color);\n",
              "    border-color: transparent;\n",
              "    border-bottom-color: var(--fill-color);\n",
              "    animation:\n",
              "      spin 1s steps(1) infinite;\n",
              "  }\n",
              "\n",
              "  @keyframes spin {\n",
              "    0% {\n",
              "      border-color: transparent;\n",
              "      border-bottom-color: var(--fill-color);\n",
              "      border-left-color: var(--fill-color);\n",
              "    }\n",
              "    20% {\n",
              "      border-color: transparent;\n",
              "      border-left-color: var(--fill-color);\n",
              "      border-top-color: var(--fill-color);\n",
              "    }\n",
              "    30% {\n",
              "      border-color: transparent;\n",
              "      border-left-color: var(--fill-color);\n",
              "      border-top-color: var(--fill-color);\n",
              "      border-right-color: var(--fill-color);\n",
              "    }\n",
              "    40% {\n",
              "      border-color: transparent;\n",
              "      border-right-color: var(--fill-color);\n",
              "      border-top-color: var(--fill-color);\n",
              "    }\n",
              "    60% {\n",
              "      border-color: transparent;\n",
              "      border-right-color: var(--fill-color);\n",
              "    }\n",
              "    80% {\n",
              "      border-color: transparent;\n",
              "      border-right-color: var(--fill-color);\n",
              "      border-bottom-color: var(--fill-color);\n",
              "    }\n",
              "    90% {\n",
              "      border-color: transparent;\n",
              "      border-bottom-color: var(--fill-color);\n",
              "    }\n",
              "  }\n",
              "</style>\n",
              "\n",
              "  <script>\n",
              "    async function quickchart(key) {\n",
              "      const quickchartButtonEl =\n",
              "        document.querySelector('#' + key + ' button');\n",
              "      quickchartButtonEl.disabled = true;  // To prevent multiple clicks.\n",
              "      quickchartButtonEl.classList.add('colab-df-spinner');\n",
              "      try {\n",
              "        const charts = await google.colab.kernel.invokeFunction(\n",
              "            'suggestCharts', [key], {});\n",
              "      } catch (error) {\n",
              "        console.error('Error during call to suggestCharts:', error);\n",
              "      }\n",
              "      quickchartButtonEl.classList.remove('colab-df-spinner');\n",
              "      quickchartButtonEl.classList.add('colab-df-quickchart-complete');\n",
              "    }\n",
              "    (() => {\n",
              "      let quickchartButtonEl =\n",
              "        document.querySelector('#df-e45da26b-9c65-431f-9511-4780416bd092 button');\n",
              "      quickchartButtonEl.style.display =\n",
              "        google.colab.kernel.accessAllowed ? 'block' : 'none';\n",
              "    })();\n",
              "  </script>\n",
              "</div>\n",
              "\n",
              "  <div id=\"id_c5fa8e4d-c924-42d5-88d7-c100888e94f3\">\n",
              "    <style>\n",
              "      .colab-df-generate {\n",
              "        background-color: #E8F0FE;\n",
              "        border: none;\n",
              "        border-radius: 50%;\n",
              "        cursor: pointer;\n",
              "        display: none;\n",
              "        fill: #1967D2;\n",
              "        height: 32px;\n",
              "        padding: 0 0 0 0;\n",
              "        width: 32px;\n",
              "      }\n",
              "\n",
              "      .colab-df-generate:hover {\n",
              "        background-color: #E2EBFA;\n",
              "        box-shadow: 0px 1px 2px rgba(60, 64, 67, 0.3), 0px 1px 3px 1px rgba(60, 64, 67, 0.15);\n",
              "        fill: #174EA6;\n",
              "      }\n",
              "\n",
              "      [theme=dark] .colab-df-generate {\n",
              "        background-color: #3B4455;\n",
              "        fill: #D2E3FC;\n",
              "      }\n",
              "\n",
              "      [theme=dark] .colab-df-generate:hover {\n",
              "        background-color: #434B5C;\n",
              "        box-shadow: 0px 1px 3px 1px rgba(0, 0, 0, 0.15);\n",
              "        filter: drop-shadow(0px 1px 2px rgba(0, 0, 0, 0.3));\n",
              "        fill: #FFFFFF;\n",
              "      }\n",
              "    </style>\n",
              "    <button class=\"colab-df-generate\" onclick=\"generateWithVariable('comparison_df')\"\n",
              "            title=\"Generate code using this dataframe.\"\n",
              "            style=\"display:none;\">\n",
              "\n",
              "  <svg xmlns=\"http://www.w3.org/2000/svg\" height=\"24px\"viewBox=\"0 0 24 24\"\n",
              "       width=\"24px\">\n",
              "    <path d=\"M7,19H8.4L18.45,9,17,7.55,7,17.6ZM5,21V16.75L18.45,3.32a2,2,0,0,1,2.83,0l1.4,1.43a1.91,1.91,0,0,1,.58,1.4,1.91,1.91,0,0,1-.58,1.4L9.25,21ZM18.45,9,17,7.55Zm-12,3A5.31,5.31,0,0,0,4.9,8.1,5.31,5.31,0,0,0,1,6.5,5.31,5.31,0,0,0,4.9,4.9,5.31,5.31,0,0,0,6.5,1,5.31,5.31,0,0,0,8.1,4.9,5.31,5.31,0,0,0,12,6.5,5.46,5.46,0,0,0,6.5,12Z\"/>\n",
              "  </svg>\n",
              "    </button>\n",
              "    <script>\n",
              "      (() => {\n",
              "      const buttonEl =\n",
              "        document.querySelector('#id_c5fa8e4d-c924-42d5-88d7-c100888e94f3 button.colab-df-generate');\n",
              "      buttonEl.style.display =\n",
              "        google.colab.kernel.accessAllowed ? 'block' : 'none';\n",
              "\n",
              "      buttonEl.onclick = () => {\n",
              "        google.colab.notebook.generateWithVariable('comparison_df');\n",
              "      }\n",
              "      })();\n",
              "    </script>\n",
              "  </div>\n",
              "\n",
              "    </div>\n",
              "  </div>\n"
            ],
            "application/vnd.google.colaboratory.intrinsic+json": {
              "type": "dataframe",
              "variable_name": "comparison_df",
              "summary": "{\n  \"name\": \"comparison_df\",\n  \"rows\": 14662,\n  \"fields\": [\n    {\n      \"column\": \"Actual nextclose\",\n      \"properties\": {\n        \"dtype\": \"number\",\n        \"std\": 24.93848093377836,\n        \"min\": 3.652559996,\n        \"max\": 113.7820511,\n        \"num_unique_values\": 4178,\n        \"samples\": [\n          48.66075134,\n          85.66694641,\n          9.91237545\n        ],\n        \"semantic_type\": \"\",\n        \"description\": \"\"\n      }\n    },\n    {\n      \"column\": \"Predicted nextclose\",\n      \"properties\": {\n        \"dtype\": \"number\",\n        \"std\": 24.96840636352981,\n        \"min\": 6.9422064061869735,\n        \"max\": 103.76141094581084,\n        \"num_unique_values\": 14661,\n        \"samples\": [\n          7.720037313355666,\n          8.788038580912808,\n          75.63598136794639\n        ],\n        \"semantic_type\": \"\",\n        \"description\": \"\"\n      }\n    }\n  ]\n}"
            }
          },
          "metadata": {},
          "execution_count": 21
        }
      ]
    }
  ]
}